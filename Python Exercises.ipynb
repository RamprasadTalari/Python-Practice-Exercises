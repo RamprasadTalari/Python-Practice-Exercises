{
 "cells": [
  {
   "cell_type": "code",
   "execution_count": 6,
   "id": "eb607c73",
   "metadata": {},
   "outputs": [
    {
     "name": "stdout",
     "output_type": "stream",
     "text": [
      "Mario\n"
     ]
    }
   ],
   "source": [
    "#Exercise -1 \n",
    "#Create two variables called name and age.\n",
    "#Then create a variable called hello and print the name and the age. Use the formatted string literal\n",
    "\n",
    "firstName = 'Mario'\n",
    "print(firstName)"
   ]
  },
  {
   "cell_type": "code",
   "execution_count": 7,
   "id": "4afa0d7b",
   "metadata": {},
   "outputs": [
    {
     "name": "stdout",
     "output_type": "stream",
     "text": [
      "25\n"
     ]
    }
   ],
   "source": [
    "#Exercise -2\n",
    "#Create an age variable and assign the value 25 to it.\n",
    "\n",
    "age = 25\n",
    "print(age)\n"
   ]
  },
  {
   "cell_type": "code",
   "execution_count": 8,
   "id": "407ac278",
   "metadata": {},
   "outputs": [
    {
     "name": "stdout",
     "output_type": "stream",
     "text": [
      "Hello, I'm Mario!\n"
     ]
    }
   ],
   "source": [
    "#Exercise -3\n",
    "#Create a sentence variable and assign the value Hello, I'm Mario! to it without using double quotes.\n",
    "\n",
    "sentence =  '''Hello, I'm Mario!'''\n",
    "print(sentence)\n",
    "\n",
    "\n",
    "\n"
   ]
  },
  {
   "cell_type": "code",
   "execution_count": 9,
   "id": "9e7e0755",
   "metadata": {},
   "outputs": [
    {
     "name": "stdout",
     "output_type": "stream",
     "text": [
      "4.5\n"
     ]
    }
   ],
   "source": [
    "\n",
    "#Exercise -4\n",
    "# Create an amount variable and assign a float value to it.\n",
    "\n",
    "amount = float(4.5)\n",
    "print(amount)"
   ]
  },
  {
   "cell_type": "code",
   "execution_count": 10,
   "id": "6644ec7d",
   "metadata": {},
   "outputs": [
    {
     "name": "stdout",
     "output_type": "stream",
     "text": [
      "True True True\n"
     ]
    }
   ],
   "source": [
    "#Exercise -5\n",
    "#Create a set of 3 variables and assign True as value of each one.\n",
    "\n",
    "a = True\n",
    "b = True\n",
    "c = True\n",
    "\n",
    "print(a,b,c)"
   ]
  },
  {
   "cell_type": "code",
   "execution_count": 11,
   "id": "39f9351c",
   "metadata": {},
   "outputs": [
    {
     "name": "stdout",
     "output_type": "stream",
     "text": [
      "Mario\n"
     ]
    }
   ],
   "source": [
    "#Exercise -6\n",
    "#Remove the illegal characters in the variable 1my-first2_Name = 'Mario'.\n",
    "\n",
    "my_first2_Name = 'Mario'\n",
    "print(my_first2_Name)"
   ]
  },
  {
   "cell_type": "code",
   "execution_count": 12,
   "id": "d7125c75",
   "metadata": {},
   "outputs": [
    {
     "name": "stdout",
     "output_type": "stream",
     "text": [
      "Hi,\n",
      "my name is\n",
      "John Doe\n",
      "python\n"
     ]
    }
   ],
   "source": [
    "#Exercise -7\n",
    "# Write single quotes or double quotes correctly\n",
    "\n",
    "\n",
    "print('''Hi,\n",
    "my name is\n",
    "John Doe\n",
    "python''')"
   ]
  },
  {
   "cell_type": "code",
   "execution_count": 13,
   "id": "5340c890",
   "metadata": {},
   "outputs": [
    {
     "name": "stdout",
     "output_type": "stream",
     "text": [
      "6\n"
     ]
    }
   ],
   "source": [
    "#Exercise -8\n",
    "#Create 3 different variables and assign 3 different values. Write only one operation. Print them on terminal\n",
    "\n",
    "\n",
    "a,b,c = 1,2,3\n",
    "\n",
    "print(a+b+c)"
   ]
  },
  {
   "cell_type": "code",
   "execution_count": 14,
   "id": "ad0a3713",
   "metadata": {},
   "outputs": [
    {
     "name": "stdout",
     "output_type": "stream",
     "text": [
      "Hello 12\n"
     ]
    }
   ],
   "source": [
    "#Exercise -9\n",
    "\n",
    "# Swap the value of the variables\n",
    "\n",
    "\n",
    "a = 12\n",
    "b = 'Hello'\n",
    "\n",
    "c=a\n",
    "a=b\n",
    "b=c\n",
    "print(a,b)"
   ]
  },
  {
   "cell_type": "code",
   "execution_count": 15,
   "id": "0c20b302",
   "metadata": {},
   "outputs": [
    {
     "name": "stdout",
     "output_type": "stream",
     "text": [
      "6 8 2\n"
     ]
    }
   ],
   "source": [
    "#Exercise -10\n",
    "\n",
    "# Print the length of each variable.\n",
    "\n",
    "hello = 'Hello!'\n",
    "name = 'Jhon Doe'\n",
    "age = '40'\n",
    "\n",
    "print(len(hello),len(name),len(age))"
   ]
  },
  {
   "cell_type": "code",
   "execution_count": 16,
   "id": "c53e0418",
   "metadata": {},
   "outputs": [
    {
     "name": "stdout",
     "output_type": "stream",
     "text": [
      "hello tom LAURA How are you How old are you?\n",
      "Hello\n",
      "TOM\n",
      "laura\n",
      "Hew are yeu\n",
      "['How', 'old', 'are', 'you?']\n",
      "Hello TOM laura Hew are yeu ['How', 'old', 'are', 'you?']\n"
     ]
    }
   ],
   "source": [
    "#Exercise -11\n",
    "\n",
    "# Modify the variables as suggested\n",
    "a = 'hello' #capitalize\n",
    "b = 'tom' #uppercase\n",
    "c = 'LAURA' #lowercase\n",
    "\n",
    "\n",
    "question = 'How are you' #change o in e\n",
    "age_question = 'How old are you?' #use the correct method to create a string for each word\n",
    "print(a, b, c, question, age_question)\n",
    "\n",
    "\n",
    "\n",
    "\n",
    "print(a.capitalize())\n",
    "print(b.upper())\n",
    "print(c.lower())\n",
    "\n",
    "print(question.replace(\"o\",\"e\"))\n",
    "print(age_question.split())\n",
    "print(a.capitalize(),b.upper(),c.lower(),question.replace(\"o\",\"e\"),age_question.split())"
   ]
  },
  {
   "cell_type": "code",
   "execution_count": 17,
   "id": "eb21d9c5",
   "metadata": {},
   "outputs": [
    {
     "name": "stdout",
     "output_type": "stream",
     "text": [
      "Hello!, I am Ram, and my age is 26\n"
     ]
    }
   ],
   "source": [
    "#Exercise -12\n",
    "\n",
    "#Create two variables called name and age.\n",
    "#Then create a variable called hello and print the name and the age. Use the formatted string literal.\n",
    "\n",
    "name = 'Ram'\n",
    "age = 26\n",
    "hello = 'hello'\n",
    "print(f\"Hello!, I am {name}, and my age is {age}\")"
   ]
  },
  {
   "cell_type": "code",
   "execution_count": 18,
   "id": "3d4e8aca",
   "metadata": {},
   "outputs": [
    {
     "name": "stdout",
     "output_type": "stream",
     "text": [
      "False\n"
     ]
    }
   ],
   "source": [
    "#Exercise -13\n",
    "\n",
    "# Insert the appropriate logical operator in order to print False\n",
    "\n",
    "print(False >True)\n"
   ]
  },
  {
   "cell_type": "code",
   "execution_count": 19,
   "id": "aaa1ff8c",
   "metadata": {},
   "outputs": [
    {
     "name": "stdout",
     "output_type": "stream",
     "text": [
      "True\n"
     ]
    }
   ],
   "source": [
    "#Exercise -14\n",
    "\n",
    "#Change the logical operators in order to print True\n",
    "# print(False and (0 != 0 or True)) # Should print True\n",
    "\n",
    "\n",
    "print(False or (0 != 0 or True))"
   ]
  },
  {
   "cell_type": "code",
   "execution_count": 20,
   "id": "65a99385",
   "metadata": {},
   "outputs": [
    {
     "name": "stdout",
     "output_type": "stream",
     "text": [
      "1\n"
     ]
    }
   ],
   "source": [
    "#Exercise -15\n",
    "\n",
    "#Print the rest of the 5/2 division\n",
    "\n",
    "print(5%2)\n",
    "\n"
   ]
  },
  {
   "cell_type": "code",
   "execution_count": 21,
   "id": "f1f2b941",
   "metadata": {},
   "outputs": [
    {
     "name": "stdout",
     "output_type": "stream",
     "text": [
      "True\n"
     ]
    }
   ],
   "source": [
    "#Exercise -16\n",
    "\n",
    "# Insert the appropriate logical operator in order to print True.\n",
    "\n",
    "# print(not (\"testing\" == \"testing\" ... \"Mario\" == \"Cool Guy\")) # Should print True\n",
    "\n",
    "print(not (\"testing\" == \"testing\" < \"Mario\" == \"Cool Guy\"))\n"
   ]
  },
  {
   "cell_type": "code",
   "execution_count": 22,
   "id": "22e3b794",
   "metadata": {},
   "outputs": [
    {
     "name": "stdout",
     "output_type": "stream",
     "text": [
      "Mario Rossi\n"
     ]
    }
   ],
   "source": [
    "#Exercise -17\n",
    "\n",
    "# Initialize and print the sentence variable using the appropriate operators.\n",
    "# print(sentence) # Should print \"Mario Rossi\"\n",
    "\n",
    "firstName =\"Mario\"\n",
    "lastName =\"Rossi\"\n",
    "\n",
    "sentence = firstName +' '+ lastName\n",
    "\n",
    "print(sentence)\n"
   ]
  },
  {
   "cell_type": "code",
   "execution_count": 23,
   "id": "2610e424",
   "metadata": {},
   "outputs": [
    {
     "name": "stdout",
     "output_type": "stream",
     "text": [
      "True\n"
     ]
    }
   ],
   "source": [
    "#Exercise -18\n",
    "\n",
    "# Check if \"Nike\" is in brands array using the appropriate logical operator\n",
    "\n",
    "# print(\"Nike\" ... brands) # Should print True\n",
    "\n",
    "brands = [\"Adidas\", \"Nike\"]\n",
    "print(\"Nike\" in brands)"
   ]
  },
  {
   "cell_type": "code",
   "execution_count": 24,
   "id": "9d1db541",
   "metadata": {},
   "outputs": [
    {
     "name": "stdout",
     "output_type": "stream",
     "text": [
      "True\n"
     ]
    }
   ],
   "source": [
    "#Exercise -19\n",
    "# print(\"Reebok\" ... brands) # Should print True\n",
    "\n",
    "brands = [\"Adidas\", \"Nike\"]\n",
    "\n",
    "print(not\"Reebok\"in brands)\n"
   ]
  },
  {
   "cell_type": "code",
   "execution_count": 25,
   "id": "ae681102",
   "metadata": {},
   "outputs": [
    {
     "name": "stdout",
     "output_type": "stream",
     "text": [
      "<class 'str'>\n",
      "<class 'bool'>\n",
      "<class 'bool'>\n",
      "<class 'int'>\n",
      "<class 'float'>\n",
      "<class 'complex'>\n",
      "<class 'complex'>\n",
      "<class 'list'>\n",
      "<class 'tuple'>\n",
      "<class 'dict'>\n",
      "<class 'set'>\n"
     ]
    }
   ],
   "source": [
    "#Exercise -20\n",
    "\n",
    "# With type command you can see the type of a variable in python \n",
    "# eg: type(1) print each components type with this way you can see most significant data types in python\n",
    "\n",
    "print(type(\"Hello World\"))\n",
    "print(type(True))\n",
    "print(type(False))\n",
    "print(type(33))\n",
    "print(type(24.5))\n",
    "print(type(4+1j))\n",
    "print(type(4j))\n",
    "print(type([\"lion\", \"monkey\", \"dog\",\"fish\"]))\n",
    "print(type((\"lion\", \"monkey\", \"dog\",\"fish\")))\n",
    "print(type({\"name\" : \"John\", \"surname\" : \"Doe\", \"age\":22}))\n",
    "print(type({\"lion\", \"monkey\", \"dog\",\"fish\"}))"
   ]
  },
  {
   "cell_type": "code",
   "execution_count": 26,
   "id": "9eb6417f",
   "metadata": {},
   "outputs": [
    {
     "name": "stdout",
     "output_type": "stream",
     "text": [
      "1.3 2 1j 1 2\n",
      "<class 'float'> <class 'int'> <class 'complex'> <class 'int'> <class 'int'>\n"
     ]
    }
   ],
   "source": [
    "#Exercise -21\n",
    "\n",
    "# the number types can be converted to each other wit the int() float() complex() methods\n",
    "# also float numbers can be rounded with the method round()\n",
    "\n",
    "# convert num1 to float and assign to itself\n",
    "# convert num2 to int and assign to itself\n",
    "# convert num3 to complex and assign to itself\n",
    "# use round method for num4 and assign to itself\n",
    "# use round method for num5 and assign to itself\n",
    "# print them all\n",
    "# print their types\n",
    "\n",
    "num1 = 1.3\n",
    "num2 = 2.3\n",
    "num3 = 1j \n",
    "num4 = 1.4 \n",
    "num5 = 1.5\n",
    "\n",
    "num1=float(num1)\n",
    "num1\n",
    "num2=int(num2)\n",
    "num2\n",
    "num3=complex(num3)\n",
    "num3\n",
    "num4=round(num4)\n",
    "num4\n",
    "num5=round(num5)\n",
    "num5\n",
    "print(num1,num2,num3,num4,num5)\n",
    "print(type(num1),type(num2),type(num3),type(num4),type(num5))"
   ]
  },
  {
   "cell_type": "code",
   "execution_count": 27,
   "id": "9c361154",
   "metadata": {},
   "outputs": [
    {
     "name": "stdout",
     "output_type": "stream",
     "text": [
      "its true\n",
      "its true\n"
     ]
    },
    {
     "data": {
      "text/plain": [
       "'566'"
      ]
     },
     "execution_count": 27,
     "metadata": {},
     "output_type": "execute_result"
    }
   ],
   "source": [
    "#Exercise -22\n",
    "\n",
    "# to convert a number to string we can use str() function this is called casting\n",
    "\n",
    "# cast num1 to string and assign to num1_str\n",
    "# check the length of the string\n",
    "# get the third element of string (the one in the 3rd order)\n",
    "# get the 3-5 elements of string (both inclusive) by string slicing\n",
    "# check if num2 in string (cast if necessary)\n",
    "# check if num3 in string (cast if necessary)\n",
    "# concatenate 0 to the string from left and assign to string_with_0\n",
    "# get the characters of string_with_0 from start to position 4 (end point exclusive)\n",
    "# get the characters of string_with_0 from position 5 until the end\n",
    "# use negative indexing to reach the \"567\" string_with_0\n",
    "\n",
    "\n",
    "num1 = 1122334455666\n",
    "num1_str = str(num1)\n",
    "num1_str\n",
    "\n",
    "len(num1_str)\n",
    "\n",
    "num1_str[2:3]\n",
    "\n",
    "num1_str[3:6]\n",
    "\n",
    "if '2' in num1_str:\n",
    "    print('its true')\n",
    "    \n",
    "if '3' in num1_str:\n",
    "    print('its true')\n",
    "    \n",
    "    \n",
    "string_with_0 = '0' + num1_str\n",
    "string_with_0\n",
    "\n",
    "string_with_0[0:4]\n",
    "string_with_0[5:13]\n",
    "string_with_0[-4:-1]\n"
   ]
  },
  {
   "cell_type": "code",
   "execution_count": 28,
   "id": "41b3c869",
   "metadata": {},
   "outputs": [
    {
     "name": "stdout",
     "output_type": "stream",
     "text": [
      "335 is greater than 66\n"
     ]
    }
   ],
   "source": [
    "#Exercise -23\n",
    "\n",
    "# print if num1 or num2 is greater \n",
    "\n",
    "num1 = 335\n",
    "num2 = 66\n",
    "\n",
    "if num1 > num2:\n",
    "    print(f\"{num1} is greater than {num2}\")\n",
    "else:\n",
    "    print(f\"{num1} is not greater than {num2}\")"
   ]
  },
  {
   "cell_type": "code",
   "execution_count": 29,
   "id": "8e0fcd5b",
   "metadata": {},
   "outputs": [
    {
     "name": "stdout",
     "output_type": "stream",
     "text": [
      "66 is equals to 66\n"
     ]
    }
   ],
   "source": [
    "#Exercise -24\n",
    "\n",
    "#check if number1 is greater than number 2 and print number1 is greater than number2\n",
    "#check and if number 2 is greater than number 1 and print number2 is greater than number1\n",
    "#finally at the end if both conditions incorrect print number2 equals to number1\n",
    "\n",
    "number1 = 66\n",
    "number2 = 66\n",
    "\n",
    "if number1 > number2:\n",
    "    print(f\"{number1} is greater than {number2}\") \n",
    "elif number2 > number1:\n",
    "    print(f\"{number2} is greater than {number1}\")\n",
    "else : \n",
    "    print(f\"{number2} is equals to {number1}\")"
   ]
  },
  {
   "cell_type": "code",
   "execution_count": 30,
   "id": "dfe7e758",
   "metadata": {
    "scrolled": true
   },
   "outputs": [
    {
     "name": "stdout",
     "output_type": "stream",
     "text": [
      "54 is lesser than 84\n"
     ]
    }
   ],
   "source": [
    "#Exercise -25\n",
    "#Compare those 2 numbers and write X greater than Y But be sure you are making the check for all the conditions\n",
    "\n",
    "import random\n",
    "\n",
    "number1 = random.randint(1,100)\n",
    "number2 = random.randint(1,100)\n",
    "\n",
    "\n",
    "if number1 > number2:\n",
    "    if number1 == number2:\n",
    "        print(\"It is equal\")\n",
    "    if  number1 >= number2:\n",
    "        print(\"It is greater than or equal\")\n",
    "    if  number1 <= number2:\n",
    "        print(\"It is less than or equal\")\n",
    "    if  number1 != number2:\n",
    "        print(\"It is not equal\")\n",
    "else:\n",
    "    print(f\"{number1} is lesser than {number2}\")"
   ]
  },
  {
   "cell_type": "code",
   "execution_count": 31,
   "id": "353a2702",
   "metadata": {},
   "outputs": [
    {
     "name": "stdout",
     "output_type": "stream",
     "text": [
      "3 is lesser than 21\n"
     ]
    }
   ],
   "source": [
    "#Exercise -26\n",
    "\n",
    "\n",
    "import random\n",
    "\n",
    "number1 = random.randint(-100,100)\n",
    "number2 = random.randint(-100,100)\n",
    "\n",
    "if abs(number1) > abs(number2):\n",
    "    if abs(number1) == abs(number2):\n",
    "        print(\"It is equal\")\n",
    "    if abs(number1) >= abs(number2):\n",
    "        print(\"It is greater than or equal\")\n",
    "    if abs(number1) <= abs(number2):\n",
    "        print(\"It is less than or equal\")\n",
    "    if abs(number1) != abs(number2):\n",
    "        print(\"It is not equal\")\n",
    "else:\n",
    "    print(f\"{abs(number1)} is lesser than {abs(number2)}\")"
   ]
  },
  {
   "cell_type": "code",
   "execution_count": 32,
   "id": "6fff1121",
   "metadata": {},
   "outputs": [
    {
     "name": "stdout",
     "output_type": "stream",
     "text": [
      "55 is lesser than 77\n"
     ]
    }
   ],
   "source": [
    "# absoulte value \n",
    "number1 = -55\n",
    "number2 = 77\n",
    "\n",
    "\n",
    "if abs(number1) > abs(number2):\n",
    "    print(\"greater\")\n",
    "elif abs(number1) == abs(number2):\n",
    "    print(\"its equal\")\n",
    "else:\n",
    "    print(f\"{abs(number1)} is lesser than {abs(number2)}\")"
   ]
  },
  {
   "cell_type": "code",
   "execution_count": 46,
   "id": "e9132bab",
   "metadata": {},
   "outputs": [
    {
     "name": "stdout",
     "output_type": "stream",
     "text": [
      "C\n",
      "nucleotide G\n"
     ]
    }
   ],
   "source": [
    "\"\"\"Write a program that: take a string in keyboard input,representing a \n",
    "nucleotide (A, C, G, T) print the complementary nucleotide on screen  Make sure the program works\n",
    "correctly with both uppercase and lowercase\n",
    "A-T and C-G\"\"\"\n",
    "\n",
    "nucleotide = input()\n",
    "if nucleotide == (\"A\",\"a\"):\n",
    "    print(\"nucleotide T\")\n",
    "if nucleotide == \"T\":\n",
    "    print(\"nucleotide A\")\n",
    "if nucleotide == \"C\":\n",
    "    print(\"nucleotide G\")\n",
    "if nucleotide == \"G\":\n",
    "    print(\"nucleotide C\")"
   ]
  },
  {
   "cell_type": "markdown",
   "id": "989db87c",
   "metadata": {},
   "source": [
    "# Loops,Lists,functions, Classes n Objects\n",
    "\n",
    "\n",
    "# Exercise 1\n"
   ]
  },
  {
   "cell_type": "code",
   "execution_count": 1,
   "id": "6119f77b",
   "metadata": {},
   "outputs": [
    {
     "name": "stdout",
     "output_type": "stream",
     "text": [
      "`\n",
      "* ** `\n",
      "**** ***** "
     ]
    }
   ],
   "source": [
    "\"\"\"Create ` * **\n",
    "\n",
    "` this shape with print and while loop statements\"\"\"\n",
    "\n",
    "i = 0\n",
    "while i < 6:\n",
    "    if i == 0 or i ==3:\n",
    "        print(\"`\")\n",
    "    else:\n",
    "        print(\"*\"* i,end=(\" \"))\n",
    "    i +=1"
   ]
  },
  {
   "cell_type": "markdown",
   "id": "889db76e",
   "metadata": {},
   "source": [
    "# Exercise 2"
   ]
  },
  {
   "cell_type": "code",
   "execution_count": 1,
   "id": "1b070f41",
   "metadata": {},
   "outputs": [
    {
     "name": "stdout",
     "output_type": "stream",
     "text": [
      "*\n",
      "***\n",
      "*****\n"
     ]
    }
   ],
   "source": [
    "\"\"\"Create\n",
    "\n",
    "*\n",
    "***\n",
    "*****\n",
    "this shape with print, for loop, if and continue statements\"\"\"\n",
    "\n",
    "for i in range(6):\n",
    "    if i % 2 == 0:\n",
    "        continue\n",
    "    print(\"*\" * i)"
   ]
  },
  {
   "cell_type": "markdown",
   "id": "d9ad41be",
   "metadata": {},
   "source": [
    "# Exercise 3"
   ]
  },
  {
   "cell_type": "code",
   "execution_count": 4,
   "id": "afe75f45",
   "metadata": {},
   "outputs": [
    {
     "name": "stdout",
     "output_type": "stream",
     "text": [
      "its a break\n"
     ]
    }
   ],
   "source": [
    "'''Check if it is time for \"coffee break\" if it is just break\n",
    "To do that lets iterate through given list don't change the \"COFFEE BREAK\" statement.\n",
    "just find another way to do it'''\n",
    "\n",
    "#todo = [\"exercise1\", \"exercise2\", \"exercise3\",\"coffee break\" ,\"exercise4\",\"exercise5\",\"exercise6\"]\n",
    "#for x in todo:\n",
    "#    if x._ == \"COFFEE BREAK\":\n",
    "#        print(x)\n",
    "#        break\n",
    "        \n",
    "        \n",
    "        \n",
    "To_do = [\"class\",\"class2\",\"COFFE_BREAK\",\"class3\"]\n",
    "for break1 in range(len(To_do)):\n",
    "    if To_do[break1] == \"COFFE_BREAK\":\n",
    "        print(\"its a break\")\n",
    "        break  "
   ]
  },
  {
   "cell_type": "markdown",
   "id": "6affa335",
   "metadata": {},
   "source": [
    "# Exercise 4"
   ]
  },
  {
   "cell_type": "code",
   "execution_count": 5,
   "id": "286aa7df",
   "metadata": {},
   "outputs": [
    {
     "name": "stdout",
     "output_type": "stream",
     "text": [
      "<class 'list'> lion <class 'list'> monkey <class 'list'> dog <class 'list'> fish  \n",
      "<class 'tuple'> lion <class 'tuple'> monkey <class 'tuple'> dog <class 'tuple'> fish  \n",
      "<class 'set'> monkey <class 'set'> dog <class 'set'> lion <class 'set'> fish  \n",
      "--dict_keys  ----->  lion--dict_keys  ----->  monkey--dict_keys  ----->  dog"
     ]
    }
   ],
   "source": [
    "\"\"\"Iterate each elements of 'list1,tuple1,set1' and print them out\n",
    "For the 'dict1' iterate all elements but only print the ones who are living on land in the form of 'x lives in y' \"\"\"\n",
    "\n",
    "list1 = [\"lion\", \"monkey\", \"dog\",\"fish\"]\n",
    "tuple1 = (\"lion\", \"monkey\", \"dog\",\"fish\")\n",
    "set1 = {\"lion\", \"monkey\", \"dog\",\"fish\"}\n",
    "dict1 = {\"lion\":\"land\", \"monkey\":\"land\", \"dog\":\"land\",\"fish\":\"water\"}\n",
    "\n",
    "for list_1 in range(len(list1)):\n",
    "    \n",
    "    print(type(list1),list1[list_1], end=(\" \"))\n",
    "    \n",
    "print(\" \")\n",
    "    \n",
    "for tuple_1 in range(len(tuple1)):\n",
    "    \n",
    "    print(type(tuple1),tuple1[tuple_1], end=(\" \"))\n",
    "print(\" \")\n",
    "\n",
    "    \n",
    "for set_1 in set1:\n",
    "    \n",
    "    \n",
    "    print(type(set1),set_1, end=(\" \"))\n",
    "\n",
    "print(\" \")\n",
    "for dict_1 in dict1:\n",
    "    if dict1[dict_1] == \"land\":\n",
    "        print(\"--dict_keys  -----> \",dict_1,end=(\"\"))"
   ]
  },
  {
   "cell_type": "markdown",
   "id": "ea737993",
   "metadata": {},
   "source": [
    "# Exercise 5"
   ]
  },
  {
   "cell_type": "code",
   "execution_count": 7,
   "id": "59b5be3d",
   "metadata": {},
   "outputs": [
    {
     "name": "stdout",
     "output_type": "stream",
     "text": [
      "1 : 4 4 4 4\n",
      "2 :  lion lion\n",
      "3 : 4\n",
      "4 : ['lion', 'rabbit', 'dog', 'fish']\n",
      "5 : cannot update because it is immutable\n",
      "6 :  ['lion', 'rabbit', 'dog', 'fish', 'monkey']\n",
      "7 : ['lion', 'dog', 'fish', 'monkey']\n",
      "8 : {'lion': 4, 'monkey': 2, 'dog': 4, 'fish': 0}\n"
     ]
    }
   ],
   "source": [
    "\"\"\"Remember list,set,dictionary are mutable and tuple is immutable list,tuple elements can be reached by index\n",
    " for dictionary it is not an option to reach by index the element key has to be known to reach\n",
    "and for set the items cannot be reached directly but it is possible to iterate.\"\"\"\n",
    "\n",
    "\"\"\" 1.print the lengths of list1,tuple1,set1,dict1\n",
    " 2.print the first element of list1 and tuple1\n",
    " 3.print the value of lion key of dict1\n",
    " 4.change the 2nd position element of list1 to \"rabbit\"\n",
    " 5.try to change the 2nd position element of the tuple to \"rabbit\" and explain what happened.\n",
    " 6.add \"monkey\" to list1\n",
    " 7.remove \"rabbit\" from list1\n",
    " 8.in dict1 the number of feet is written as value to each animal the fixh has wrong value just fix it.\"\"\"\n",
    "\n",
    "list1 = [\"lion\", \"monkey\", \"dog\",\"fish\"]\n",
    "tuple1 = (\"lion\", \"monkey\", \"dog\",\"fish\")\n",
    "set1 = {\"lion\", \"monkey\", \"dog\",\"fish\"}\n",
    "dict1 = {\"lion\":4, \"monkey\":2, \"dog\":4,\"fish\":2}\n",
    "\n",
    "print(\"1 :\",len(list1),len(tuple1),len(set1),len(dict1))\n",
    "print(\"2 : \", list1[0],tuple1[0])\n",
    "print(\"3 :\" , dict1[\"lion\"])\n",
    "list1[1] =\"rabbit\"\n",
    "print(\"4 :\", list1)\n",
    "try:\n",
    "    tuple1[1]=\"rabbit\"\n",
    "except:\n",
    "    print(\"5 : cannot update because it is immutable\" )\n",
    "\n",
    "list1.append(\"monkey\")    \n",
    "print(\"6 : \", list1)\n",
    "\n",
    "list1.remove(\"rabbit\")\n",
    "print(\"7 :\", list1)\n",
    "\n",
    "dict1[\"fish\"] = 0\n",
    "print(\"8 :\" , dict1)"
   ]
  },
  {
   "cell_type": "markdown",
   "id": "d602849b",
   "metadata": {},
   "source": [
    "# Exercise 6"
   ]
  },
  {
   "cell_type": "code",
   "execution_count": 8,
   "id": "a4eaff40",
   "metadata": {},
   "outputs": [
    {
     "name": "stdout",
     "output_type": "stream",
     "text": [
      "good bye\n"
     ]
    }
   ],
   "source": [
    "# To create functions in python we start with def word and after it the name of function comes with without parameters example is here\n",
    "\n",
    "# def hello():\n",
    "#    print(\"hello\")\n",
    "# Now you create a function named goodbye without parameters which prints good bye\n",
    "\n",
    "def goodbye():\n",
    "    print(\"good bye\")\n",
    "goodbye()"
   ]
  },
  {
   "cell_type": "markdown",
   "id": "1476f89c",
   "metadata": {},
   "source": [
    "# Exercise 7"
   ]
  },
  {
   "cell_type": "code",
   "execution_count": 9,
   "id": "4fbec7aa",
   "metadata": {},
   "outputs": [
    {
     "name": "stdout",
     "output_type": "stream",
     "text": [
      "good bye----> Ram\n"
     ]
    }
   ],
   "source": [
    "# Inside the parenthesis variables can be used those variables as known as parameters of the function provides control inside the function example is here\n",
    "\n",
    "# def hello(name):\n",
    "#    print(f\"hello {name}\")\n",
    "# Now you create a function named goodbye with a parameter name and say \"Good bye Adam\"\n",
    "\n",
    "def gooodbye(name):\n",
    "    print(\"good bye---->\",name)\n",
    "gooodbye(\"Ram\")\n"
   ]
  },
  {
   "cell_type": "markdown",
   "id": "484c49a9",
   "metadata": {},
   "source": [
    "# Exercise 8"
   ]
  },
  {
   "cell_type": "code",
   "execution_count": 10,
   "id": "c90eba42",
   "metadata": {},
   "outputs": [
    {
     "data": {
      "text/plain": [
       "'HP PC'"
      ]
     },
     "execution_count": 10,
     "metadata": {},
     "output_type": "execute_result"
    }
   ],
   "source": [
    "# Let's see what is your user name on your computer\n",
    "# to do that we are going to use os module which is a built in module in python\n",
    "# and has many built in functions in it\n",
    "\n",
    "# to be able to use os functions\n",
    "# import os then call getlogin method of the module\n",
    "# then assign the output to user variable and print the user\n",
    "\n",
    "\n",
    "import os\n",
    "def user():\n",
    "    return os.getlogin()\n",
    "user()"
   ]
  },
  {
   "cell_type": "markdown",
   "id": "f25eb320",
   "metadata": {},
   "source": [
    "# Exercise 9"
   ]
  },
  {
   "cell_type": "code",
   "execution_count": 14,
   "id": "5bc845b3",
   "metadata": {},
   "outputs": [
    {
     "name": "stdout",
     "output_type": "stream",
     "text": [
      " number of people : 5\n",
      "John\n",
      "Sen\n",
      "Hello : John Sen\n",
      "Ram\n",
      "Kiran\n",
      "Hello : Ram Kiran\n",
      "mahesh\n",
      "pratik\n",
      "Hello : mahesh pratik\n",
      "brinda\n",
      "vihari\n",
      "Hello : brinda vihari\n",
      "parmesh\n",
      "kalyan\n",
      "Hello : parmesh kalyan\n"
     ]
    }
   ],
   "source": [
    "''' Now create a function for John Doe and his family that greets every one in the family.\n",
    "Since it will usually John Doe the name and surname parameter must be defaulted\n",
    " and when someone else comes it has to greet the new comer with name surname parameters which were overwritten. Make it possible.\n",
    " The function have to print \"Hello John Doe\" where John and Doe is parametric\n",
    " Greet each our John first then the people in the list with for loop and the function\n",
    " What you have to use\n",
    "\n",
    " for loop\n",
    " function\n",
    " string operation\n",
    " list index\n",
    " Output format\n",
    "\n",
    " Hello John Doe!\n",
    " Hello Tristram Mcbride!\n",
    " Hello Baldwin Preston!\n",
    " Hello Wally Collins!'''\n",
    "\n",
    "\n",
    "name = []\n",
    "surname = []\n",
    "\n",
    "def greet(name,surname):\n",
    "    \n",
    "    print(\"Hello :\" ,name1,sur)\n",
    "    \n",
    "n = int(input( \" number of people : \"))\n",
    "for i in range(0,n):\n",
    "    count_name = input()\n",
    "    count2_sur = input()\n",
    "    name.append(count_name)\n",
    "    surname.append(count2_sur)\n",
    "    name1 = str(name[i])\n",
    "    sur = str(surname[i])\n",
    "    \n",
    "    greet(name1,sur)"
   ]
  },
  {
   "cell_type": "markdown",
   "id": "ed3ee921",
   "metadata": {},
   "source": [
    "# Exercise 10"
   ]
  },
  {
   "cell_type": "code",
   "execution_count": 13,
   "id": "414344ec",
   "metadata": {},
   "outputs": [
    {
     "data": {
      "text/plain": [
       "(4, 111, [4, 58, -64, -47, 97, -92, 60, 15, -19, 50, 89, -3, -33, -42, 38])"
      ]
     },
     "execution_count": 13,
     "metadata": {},
     "output_type": "execute_result"
    }
   ],
   "source": [
    "''' Import random function\n",
    " Create a function random_list_summer creates n elemented list with min value = -100 max value = 100 it has to print the list first and sum all the elements of it default element number is 15\n",
    " Don't forget to call the function\n",
    " for some features and functions you might have to search on the internet do it don't lose your courage'''\n",
    "\n",
    "import random\n",
    "\n",
    "def  random_list_summer(n):\n",
    "    rand_list = []\n",
    "    for i in range(n):\n",
    "        rand_list.append(random.randint(-100,100))\n",
    "        \n",
    "    return rand_list[0],sum(rand_list),rand_list\n",
    "\n",
    "\n",
    "random_list_summer(15)\n",
    "\n"
   ]
  },
  {
   "cell_type": "markdown",
   "id": "e0880337",
   "metadata": {},
   "source": [
    "# Exercise 11"
   ]
  },
  {
   "cell_type": "code",
   "execution_count": 15,
   "id": "43dc5c9b",
   "metadata": {},
   "outputs": [
    {
     "name": "stdout",
     "output_type": "stream",
     "text": [
      "enter a fibonocci value : 5\n",
      "0\n",
      "1\n",
      "1\n",
      "2\n",
      "3\n"
     ]
    }
   ],
   "source": [
    "# Implement Fibonacci sequence as recursive function and print first 5 elements.\n",
    "\n",
    "\n",
    "def fibo_val(n):\n",
    "    if n <= 1:\n",
    "        return n\n",
    "    else:\n",
    "        return(fibo_val(n-1) + fibo_val(n-2))\n",
    "        \n",
    "\n",
    "\n",
    "fibo = input(\"enter a fibonocci value : \") \n",
    "for i in range(int(fibo)):\n",
    "    print(fibo_val(i))\n",
    "    "
   ]
  },
  {
   "cell_type": "markdown",
   "id": "ce011f8c",
   "metadata": {},
   "source": [
    "# Exercise 12"
   ]
  },
  {
   "cell_type": "code",
   "execution_count": 16,
   "id": "675e98d1",
   "metadata": {},
   "outputs": [
    {
     "name": "stdout",
     "output_type": "stream",
     "text": [
      "enter num of values : 8\n",
      "[0, 256, 65536, 1679616]\n"
     ]
    }
   ],
   "source": [
    "# Create a lambda function that returns 2nd power of given number if its even\n",
    "# and run it on the given list\n",
    "# then print the result to the screen\n",
    "\n",
    "my_list= [*range(5)] \n",
    "def lam_fun(i):\n",
    "    return lambda a : a ** i \n",
    "        \n",
    "\n",
    "n = int(input(\"enter num of values : \"))\n",
    "list_1 = []\n",
    "for i in range(n):\n",
    "    if i%2 == 0:\n",
    "        lam = lam_fun(n)\n",
    "        list_1.append(lam(i))\n",
    "print(list_1)"
   ]
  },
  {
   "cell_type": "markdown",
   "id": "51c4c0b8",
   "metadata": {},
   "source": [
    "# Exercise 13"
   ]
  },
  {
   "cell_type": "code",
   "execution_count": 2,
   "id": "2180571d",
   "metadata": {},
   "outputs": [
    {
     "name": "stdout",
     "output_type": "stream",
     "text": [
      "object is created \n",
      "started running\n"
     ]
    }
   ],
   "source": [
    "# Let's create Animal class and then create the animal object that runs and having 4 legs\n",
    "\n",
    "# create animal object with leg count when created print \"Animal object was created\"\n",
    "# and then call runs method of it and it prints \"Running started\" \n",
    "\n",
    "\n",
    "class Animal( ):\n",
    "    def __init__(self,leg_count):\n",
    "        print(\"object is created \")\n",
    "        self.leg_count = leg_count\n",
    "    def run(self):\n",
    "        print(\"started running\")\n",
    "        \n",
    "animal = Animal(4)\n",
    "animal.run()\n",
    "    \n",
    "    "
   ]
  },
  {
   "cell_type": "markdown",
   "id": "09df383c",
   "metadata": {},
   "source": [
    "# Exercise 14"
   ]
  },
  {
   "cell_type": "code",
   "execution_count": 1,
   "id": "d4add42b",
   "metadata": {},
   "outputs": [
    {
     "name": "stdout",
     "output_type": "stream",
     "text": [
      "Animal object was created\n",
      "Running started\n",
      "None\n",
      "It has 4\n",
      "None\n",
      "4\n",
      "4\n"
     ]
    }
   ],
   "source": [
    "# Now continue with the Animal class we had used before\n",
    "\n",
    "# Add a method to count the legs count_legs which prints the number of legs\n",
    "\n",
    "# Add a method to count the legs return_legs which returns the number of legs\n",
    "\n",
    "# print number of legs directly from number_of_legs variable of the object\n",
    "\n",
    "\n",
    "\n",
    "\"\"\"class Animal:\n",
    "    def __init__(self,legs_count):\n",
    "        print(\"Animal object was created\")\n",
    "        self.number_of_legs = legs_count\n",
    "\n",
    "    def runs(self):\n",
    "        print(\"Running started\")\n",
    "\n",
    "    def count_legs(self):\n",
    "        print(f\"It has {self.number_of_legs}\")\"\"\"\n",
    "\n",
    "class Animal:\n",
    "    def __init__(self,legs_count):\n",
    "        print(\"Animal object was created\")\n",
    "        self.number_of_legs = legs_count\n",
    "\n",
    "    def runs(self):\n",
    "        print(\"Running started\")\n",
    "\n",
    "    def count_legs(self):\n",
    "        print(f\"It has {self.number_of_legs}\")\n",
    "    \n",
    "    def return_legs(self):\n",
    "        return self.number_of_legs\n",
    "\n",
    "animal = Animal(4)\n",
    "print(animal.runs())\n",
    "print(animal.count_legs())\n",
    "print(animal.return_legs())\n",
    "print(animal.number_of_legs)\n",
    "    \n"
   ]
  },
  {
   "cell_type": "markdown",
   "id": "a80007d4",
   "metadata": {},
   "source": [
    "# Exercise 15"
   ]
  },
  {
   "cell_type": "code",
   "execution_count": 26,
   "id": "4afc14da",
   "metadata": {},
   "outputs": [
    {
     "name": "stdout",
     "output_type": "stream",
     "text": [
      "Animal object was created\n",
      "Running started\n",
      "None\n",
      "It has 4\n",
      "None\n",
      "4\n",
      "4\n"
     ]
    }
   ],
   "source": [
    "# Again let's keep talking on Animal class we have.\n",
    "# with 3 methods we just reached the number of legs\n",
    "# to prevent direct interacting with the class variables\n",
    "# most of the other programming languages have encapsulation.\n",
    "# But in python we don't have it instead we use _ prefix for it as convention\n",
    "# it is also same for the methods\n",
    "\n",
    "# _legs this shows us not to touch this variable its up to you if you want to change it you can but _ asks you politely not to do it.\n",
    "\n",
    "# Change the number_of_legs to conventional private variable and call from another method\n",
    "\n",
    "\n",
    "\n",
    "\"\"\"class Animal:\n",
    "    def __init__(self,legs_count):\n",
    "        print(\"Animal object was created\")\n",
    "        self.number_of_legs = legs_count\n",
    "\n",
    "    def runs(self):\n",
    "        print(\"Running started\")\n",
    "\n",
    "    def count_legs(self):\n",
    "        print(f\"It has {self.number_of_legs}\")\n",
    "\n",
    "    def return_legs(self):\n",
    "        return self.number_of_legs\n",
    "        \n",
    "animal= Animal(4)\n",
    "animal.count_legs()\n",
    "print(animal.return_legs())\n",
    "print(animal.number_of_legs)\"\"\"\n",
    "\n",
    "\n",
    "class Animal:\n",
    "    def __init__(self,legs_count):\n",
    "        print(\"Animal object was created\")\n",
    "        self.number_of_legs = legs_count\n",
    "\n",
    "    def runs(self):\n",
    "        print(\"Running started\")\n",
    "\n",
    "    def count_legs(self):\n",
    "        print(f\"It has {self.number_of_legs}\")\n",
    "    \n",
    "    def return_legs(self):\n",
    "        return self.number_of_legs\n",
    "\n",
    "animal = Animal(4)\n",
    "print(animal.runs())\n",
    "print(animal.count_legs())\n",
    "print(animal.return_legs())\n",
    "print(animal.number_of_legs)"
   ]
  },
  {
   "cell_type": "markdown",
   "id": "3b70502b",
   "metadata": {},
   "source": [
    "# Exercise 16"
   ]
  },
  {
   "cell_type": "code",
   "execution_count": 27,
   "id": "e72095fe",
   "metadata": {},
   "outputs": [
    {
     "name": "stdout",
     "output_type": "stream",
     "text": [
      "Animal object was created\n",
      "It has 4\n",
      "4\n",
      "4\n",
      "Animal object was created\n",
      "It has 4\n",
      "4\n",
      "4\n",
      "Animal object was created\n",
      "bow bow\n"
     ]
    }
   ],
   "source": [
    "# Let's inherit Dog class from Animal add name(private) attribute to Dog class and then bark method to print woof woof\n",
    "\n",
    "# print name_of_dog make it bark count the legs\n",
    "\n",
    "class Animal:\n",
    "    def __init__(self,legs_count):\n",
    "        print(\"Animal object was created\")\n",
    "        self._number_of_legs = legs_count\n",
    "\n",
    "    def runs(self):\n",
    "        print(\"Running started\")\n",
    "\n",
    "    def count_legs(self):\n",
    "        print(f\"It has {self._number_of_legs}\")\n",
    "\n",
    "    def return_legs(self):\n",
    "        return self._number_of_legs\n",
    "        \n",
    "animal= Animal(4)\n",
    "animal.count_legs()\n",
    "print(animal.return_legs())\n",
    "print(animal._number_of_legs)\n",
    "\n",
    "class Animal:\n",
    "    def __init__(self,legs_count):\n",
    "        print(\"Animal object was created\")\n",
    "        self._number_of_legs = legs_count\n",
    "\n",
    "    def runs(self):\n",
    "        print(\"Running started\")\n",
    "\n",
    "    def count_legs(self):\n",
    "        print(f\"It has {self._number_of_legs}\")\n",
    "\n",
    "    def return_legs(self):\n",
    "        return self._number_of_legs\n",
    "class Dog(Animal):\n",
    "    def __init__(self,name):\n",
    "        Animal.__init__(self,4)\n",
    "        self._name = name\n",
    "        \n",
    "    def bark(self):\n",
    "            print(\"bow bow\")\n",
    "        \n",
    "animal= Animal(4)\n",
    "animal.count_legs()\n",
    "print(animal.return_legs())\n",
    "print(animal._number_of_legs)\n",
    "\n",
    "dog = Dog(\"Alex\")\n",
    "dog.bark()"
   ]
  },
  {
   "cell_type": "code",
   "execution_count": 1,
   "id": "ec72ba30",
   "metadata": {},
   "outputs": [
    {
     "name": "stdout",
     "output_type": "stream",
     "text": [
      "Please, Enter the Lowest Range Value: 1\n",
      "Please, Enter the Upper Range Value: 10\n",
      "The Prime Numbers in the range are: \n",
      "2\n",
      "3\n",
      "5\n",
      "7\n"
     ]
    }
   ],
   "source": [
    "lower_value = int(input (\"Please, Enter the Lowest Range Value: \"))  \n",
    "upper_value = int(input (\"Please, Enter the Upper Range Value: \"))  \n",
    "  \n",
    "print (\"The Prime Numbers in the range are: \")  \n",
    "for number in range (lower_value, upper_value + 1):  \n",
    "    if number > 1:  \n",
    "        for i in range (2, number):  \n",
    "            if (number % i) == 0:  \n",
    "                break  \n",
    "        else:  \n",
    "            print (number)  "
   ]
  },
  {
   "cell_type": "code",
   "execution_count": null,
   "id": "e444903d",
   "metadata": {},
   "outputs": [],
   "source": []
  }
 ],
 "metadata": {
  "kernelspec": {
   "display_name": "Python 3 (ipykernel)",
   "language": "python",
   "name": "python3"
  },
  "language_info": {
   "codemirror_mode": {
    "name": "ipython",
    "version": 3
   },
   "file_extension": ".py",
   "mimetype": "text/x-python",
   "name": "python",
   "nbconvert_exporter": "python",
   "pygments_lexer": "ipython3",
   "version": "3.8.10"
  }
 },
 "nbformat": 4,
 "nbformat_minor": 5
}
